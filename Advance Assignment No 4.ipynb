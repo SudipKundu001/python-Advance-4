{
 "cells": [
  {
   "cell_type": "markdown",
   "id": "b040ed4e",
   "metadata": {},
   "source": [
    ">__Q1. Which two operator overloading methods can you use in your classes to support iteration?__"
   ]
  },
  {
   "cell_type": "markdown",
   "id": "16b9de1c",
   "metadata": {},
   "source": [
    "Ans.  The __iter__ returns the iterator object and is implicitly called at the start of loops. The __next__ method returns the next value and is implicitly called at each loop increment."
   ]
  },
  {
   "cell_type": "markdown",
   "id": "cf39b076",
   "metadata": {},
   "source": [
    ">__Q3. In a class, how do you intercept slice operations?__"
   ]
  },
  {
   "cell_type": "markdown",
   "id": "9a576c43",
   "metadata": {},
   "source": [
    "Ans.  The slice() function returns a slice object. A slice object is used to specify how to slice a sequence. You can specify where to start the slicing, and where to end. You can also specify the step, which allows you to e.g. slice only every other item."
   ]
  },
  {
   "cell_type": "markdown",
   "id": "c3705cb5",
   "metadata": {},
   "source": [
    ">__Q4. In a class, how do you capture in-place addition?__"
   ]
  },
  {
   "cell_type": "markdown",
   "id": "f7a3ffe8",
   "metadata": {},
   "source": [
    "Ans.  \n",
    "1. iadd() This function is used to assign the current value and add them.\n",
    "2. isub() This function is used to assign the current value and subtract them. \n",
    "3. imul() This function is used to assign the current value and multiply them. \n",
    "4. itruediv() \n",
    "5. imod()"
   ]
  },
  {
   "cell_type": "markdown",
   "id": "21cfe24e",
   "metadata": {},
   "source": [
    ">__Q5. When is it appropriate to use operator overloading?__"
   ]
  },
  {
   "cell_type": "markdown",
   "id": "7ea33c6e",
   "metadata": {},
   "source": [
    "Ans.  Operator overloading is mostly useful when you're making a new class that falls into an existing \"Abstract Base Class\" (ABC)"
   ]
  }
 ],
 "metadata": {
  "kernelspec": {
   "display_name": "Python 3",
   "language": "python",
   "name": "python3"
  },
  "language_info": {
   "codemirror_mode": {
    "name": "ipython",
    "version": 3
   },
   "file_extension": ".py",
   "mimetype": "text/x-python",
   "name": "python",
   "nbconvert_exporter": "python",
   "pygments_lexer": "ipython3",
   "version": "3.8.8"
  }
 },
 "nbformat": 4,
 "nbformat_minor": 5
}
